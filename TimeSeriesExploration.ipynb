{
 "cells": [
  {
   "cell_type": "code",
   "execution_count": null,
   "metadata": {
    "collapsed": true
   },
   "outputs": [],
   "source": [
    "import pandas as pd"
   ]
  },
  {
   "cell_type": "code",
   "execution_count": null,
   "outputs": [],
   "source": [
    "df_StateLandTemps = pd.read_csv(\"GlobalLandTemperatures_GlobalLandTemperaturesByState.csv\")"
   ],
   "metadata": {
    "collapsed": false
   }
  },
  {
   "cell_type": "code",
   "execution_count": null,
   "outputs": [],
   "source": [
    "df_StateLandTemps.head()"
   ],
   "metadata": {
    "collapsed": false
   }
  },
  {
   "cell_type": "markdown",
   "source": [
    "# Fetch all available country names in dataframe"
   ],
   "metadata": {
    "collapsed": false
   }
  },
  {
   "cell_type": "code",
   "execution_count": null,
   "outputs": [],
   "source": [
    "df_StateLandTemps['Country'].unique()"
   ],
   "metadata": {
    "collapsed": false
   }
  },
  {
   "cell_type": "code",
   "execution_count": null,
   "outputs": [],
   "source": [
    "df_StateLandTemps.groupby('Country').apply(lambda x: x['State'].unique())"
   ],
   "metadata": {
    "collapsed": false
   }
  },
  {
   "cell_type": "code",
   "execution_count": null,
   "outputs": [],
   "source": [
    "df_USA = df_StateLandTemps.loc[df_StateLandTemps['Country'] == 'United States']\n",
    "df_USA.head()"
   ],
   "metadata": {
    "collapsed": false
   }
  },
  {
   "cell_type": "code",
   "execution_count": null,
   "outputs": [],
   "source": [
    "df_USA['State'].unique()"
   ],
   "metadata": {
    "collapsed": false
   }
  },
  {
   "cell_type": "code",
   "execution_count": null,
   "outputs": [],
   "source": [
    "df_USA.dtypes"
   ],
   "metadata": {
    "collapsed": false
   }
  },
  {
   "cell_type": "code",
   "execution_count": null,
   "outputs": [],
   "source": [
    "df_USA = df_USA.loc[df_USA['dt'] > '1969-12-31']\n",
    "df_USA.head()"
   ],
   "metadata": {
    "collapsed": false
   }
  },
  {
   "cell_type": "code",
   "execution_count": null,
   "outputs": [],
   "source": [
    "df_GA = df_USA.loc[df_USA['State'] == 'Georgia (State)'].copy(deep=True)\n",
    "df_GA.head()"
   ],
   "metadata": {
    "collapsed": false
   }
  },
  {
   "cell_type": "code",
   "execution_count": null,
   "outputs": [],
   "source": [
    "df_GA['dt'] = pd.to_datetime(df_GA['dt'], format='%Y-%m-%d')\n",
    "df_GA.head()"
   ],
   "metadata": {
    "collapsed": false
   }
  },
  {
   "cell_type": "code",
   "execution_count": null,
   "outputs": [],
   "source": [
    "df_GA['year'] = df_GA['dt'].dt.year\n",
    "df_GA['month'] = df_GA['dt'].dt.month\n",
    "df_GA['day'] = df_GA['dt'].dt.day\n",
    "df_GA.head()"
   ],
   "metadata": {
    "collapsed": false
   }
  },
  {
   "cell_type": "code",
   "execution_count": null,
   "outputs": [],
   "source": [
    "df_GA.sort_values(by=['year', 'month', 'day'])"
   ],
   "metadata": {
    "collapsed": false
   }
  },
  {
   "cell_type": "code",
   "execution_count": null,
   "outputs": [],
   "source": [
    "df_GA.loc[df_GA['month'] == 1]"
   ],
   "metadata": {
    "collapsed": false
   }
  },
  {
   "cell_type": "code",
   "execution_count": null,
   "outputs": [],
   "source": [
    "df_GA['day'].unique()"
   ],
   "metadata": {
    "collapsed": false
   }
  },
  {
   "cell_type": "code",
   "execution_count": null,
   "outputs": [],
   "source": [
    "df_GA['month'].unique()"
   ],
   "metadata": {
    "collapsed": false
   }
  },
  {
   "cell_type": "code",
   "execution_count": null,
   "outputs": [],
   "source": [
    "df_GA_feb = df_GA.loc[df_GA['month'] == 2].copy(deep=True)\n",
    "df_GA_feb.head()"
   ],
   "metadata": {
    "collapsed": false
   }
  },
  {
   "cell_type": "code",
   "execution_count": null,
   "outputs": [],
   "source": [
    "df_GA_feb.plot.line(y='AverageTemperature', x='year')"
   ],
   "metadata": {
    "collapsed": false
   }
  },
  {
   "cell_type": "code",
   "execution_count": null,
   "outputs": [],
   "source": [
    "import matplotlib.pyplot as plt\n",
    "import seaborn as sns\n",
    "import scipy.stats as stats\n",
    "import numpy as np\n",
    "\n",
    "months = {\n",
    "    1: \"January\",\n",
    "    2: \"February\",\n",
    "    3: \"March\",\n",
    "    4: \"April\",\n",
    "    5: \"May\",\n",
    "    6: \"June\",\n",
    "    7: \"July\",\n",
    "    8: \"August\",\n",
    "    9: \"September\",\n",
    "    10: \"October\",\n",
    "    11: \"November\",\n",
    "    12: \"December\"\n",
    "}\n",
    "\n",
    "for num_month in df_GA['month'].unique():\n",
    "    df_temp = df_GA.loc[df_GA['month'] == num_month][['year', 'AverageTemperature']]  #.set_index('year')\n",
    "    # print(df_temp.head())\n",
    "\n",
    "    # https://stackoverflow.com/questions/70852986/add-trend-line-to-datetime-matplotlib-line-graph\n",
    "    x = df_temp['year']\n",
    "    # fit line\n",
    "    trend = np.polyfit(x, df_temp['AverageTemperature'], 1)\n",
    "    slope, intercept = trend  # https://stackoverflow.com/questions/2244386/python-how-to-find-the-slope-of-a-graph-drawn-using-matplotlib\n",
    "    fit = np.poly1d(trend)\n",
    "    # general plot\n",
    "    plt.plot(x, df_temp['AverageTemperature'])\n",
    "    plt.xlabel('Year')\n",
    "    plt.ylabel('Avg Temp')\n",
    "    plt.title(months[num_month])\n",
    "    x_fit = np.linspace(x.min(), x.max())\n",
    "    plt.plot(x_fit, fit(x_fit), \"r--\" if slope>0 else \"g--\")\n",
    "\n",
    "    plt.show()\n"
   ],
   "metadata": {
    "collapsed": false
   }
  },
  {
   "cell_type": "code",
   "execution_count": null,
   "outputs": [],
   "source": [],
   "metadata": {
    "collapsed": false
   }
  }
 ],
 "metadata": {
  "kernelspec": {
   "display_name": "Python 3",
   "language": "python",
   "name": "python3"
  },
  "language_info": {
   "codemirror_mode": {
    "name": "ipython",
    "version": 2
   },
   "file_extension": ".py",
   "mimetype": "text/x-python",
   "name": "python",
   "nbconvert_exporter": "python",
   "pygments_lexer": "ipython2",
   "version": "2.7.6"
  }
 },
 "nbformat": 4,
 "nbformat_minor": 0
}
